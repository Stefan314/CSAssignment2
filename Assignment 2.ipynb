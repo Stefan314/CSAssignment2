{
 "cells": [
  {
   "cell_type": "markdown",
   "source": [
    "# Computational Statistics, Graded Assignment 2"
   ],
   "metadata": {
    "collapsed": false,
    "pycharm": {
     "name": "#%% md\n"
    }
   }
  },
  {
   "cell_type": "markdown",
   "source": [
    "## Importing packages and data"
   ],
   "metadata": {
    "collapsed": false,
    "pycharm": {
     "name": "#%% md\n"
    }
   }
  },
  {
   "cell_type": "code",
   "execution_count": 50,
   "outputs": [],
   "source": [
    "import numpy as np\n",
    "import pandas as pd\n",
    "import matplotlib.pyplot as plt\n",
    "\n",
    "from scipy.stats import pearsonr\n",
    "from scipy.special import comb"
   ],
   "metadata": {
    "collapsed": false,
    "pycharm": {
     "name": "#%%\n"
    }
   }
  },
  {
   "cell_type": "code",
   "execution_count": 51,
   "outputs": [
    {
     "data": {
      "text/plain": "   LSAT   GPA\n0   576  3.39\n1   635  3.30\n2   558  2.81\n3   578  3.03\n4   666  3.44",
      "text/html": "<div>\n<style scoped>\n    .dataframe tbody tr th:only-of-type {\n        vertical-align: middle;\n    }\n\n    .dataframe tbody tr th {\n        vertical-align: top;\n    }\n\n    .dataframe thead th {\n        text-align: right;\n    }\n</style>\n<table border=\"1\" class=\"dataframe\">\n  <thead>\n    <tr style=\"text-align: right;\">\n      <th></th>\n      <th>LSAT</th>\n      <th>GPA</th>\n    </tr>\n  </thead>\n  <tbody>\n    <tr>\n      <th>0</th>\n      <td>576</td>\n      <td>3.39</td>\n    </tr>\n    <tr>\n      <th>1</th>\n      <td>635</td>\n      <td>3.30</td>\n    </tr>\n    <tr>\n      <th>2</th>\n      <td>558</td>\n      <td>2.81</td>\n    </tr>\n    <tr>\n      <th>3</th>\n      <td>578</td>\n      <td>3.03</td>\n    </tr>\n    <tr>\n      <th>4</th>\n      <td>666</td>\n      <td>3.44</td>\n    </tr>\n  </tbody>\n</table>\n</div>"
     },
     "execution_count": 51,
     "metadata": {},
     "output_type": "execute_result"
    }
   ],
   "source": [
    "df = pd.read_csv(\"law.csv\")\n",
    "df.head()"
   ],
   "metadata": {
    "collapsed": false,
    "pycharm": {
     "name": "#%%\n"
    }
   }
  },
  {
   "cell_type": "markdown",
   "source": [
    "## Light Data Exploration"
   ],
   "metadata": {
    "collapsed": false,
    "pycharm": {
     "name": "#%% md\n"
    }
   }
  },
  {
   "cell_type": "code",
   "execution_count": 52,
   "outputs": [],
   "source": [
    "lsat = df['LSAT']\n",
    "gpa = df['GPA']"
   ],
   "metadata": {
    "collapsed": false,
    "pycharm": {
     "name": "#%%\n"
    }
   }
  },
  {
   "cell_type": "code",
   "execution_count": 53,
   "outputs": [
    {
     "name": "stdout",
     "output_type": "stream",
     "text": [
      "0     3.39\n",
      "1     3.30\n",
      "2     2.81\n",
      "3     3.03\n",
      "4     3.44\n",
      "5     3.07\n",
      "6     3.00\n",
      "7     3.43\n",
      "8     3.36\n",
      "9     3.13\n",
      "10    3.12\n",
      "11    2.74\n",
      "12    2.76\n",
      "13    2.88\n",
      "14    2.96\n",
      "Name: GPA, dtype: float64\n"
     ]
    }
   ],
   "source": [
    "print(gpa)"
   ],
   "metadata": {
    "collapsed": false,
    "pycharm": {
     "name": "#%%\n"
    }
   }
  },
  {
   "cell_type": "code",
   "execution_count": 54,
   "outputs": [
    {
     "name": "stdout",
     "output_type": "stream",
     "text": [
      "Observed correlation coefficient: 0.776374491289407\n"
     ]
    }
   ],
   "source": [
    "#I calculated the Pearsos's coef\n",
    "r_observed, _ = pearsonr(lsat, gpa)\n",
    "print('Observed correlation coefficient:', r_observed)"
   ],
   "metadata": {
    "collapsed": false,
    "pycharm": {
     "name": "#%%\n"
    }
   }
  },
  {
   "cell_type": "markdown",
   "source": [
    "## Bootstrapping"
   ],
   "metadata": {
    "collapsed": false
   }
  },
  {
   "cell_type": "code",
   "execution_count": 55,
   "outputs": [],
   "source": [
    "#B = 40000 bootstrap resamples\n",
    "B = 40000\n",
    "r_bootstrap = np.zeros(B)\n",
    "for i in range(B):\n",
    "    indices = np.random.choice(len(df), size=len(df), replace=True)\n",
    "    lsat_resample = lsat[indices]\n",
    "    gpa_resample = gpa[indices]\n",
    "    r_bootstrap[i], _ = pearsonr(lsat_resample, gpa_resample)"
   ],
   "metadata": {
    "collapsed": false,
    "pycharm": {
     "name": "#%%\n"
    }
   }
  },
  {
   "cell_type": "code",
   "execution_count": 56,
   "outputs": [
    {
     "name": "stdout",
     "output_type": "stream",
     "text": [
      "[0.81524889 0.65047999 0.64554905 ... 0.7932129  0.68864192 0.61479506]\n"
     ]
    }
   ],
   "source": [
    "print(r_bootstrap)"
   ],
   "metadata": {
    "collapsed": false,
    "pycharm": {
     "name": "#%%\n"
    }
   }
  },
  {
   "cell_type": "markdown",
   "source": [
    "### Data Exploration on Bootstrap"
   ],
   "metadata": {
    "collapsed": false
   }
  },
  {
   "cell_type": "code",
   "execution_count": 57,
   "outputs": [
    {
     "name": "stdout",
     "output_type": "stream",
     "text": [
      "Bootstrap mean: 0.7718685188096702\n",
      "Bootstrap standard deviation: 0.13282448967473284\n"
     ]
    }
   ],
   "source": [
    "#mean and standard deviation of the B\n",
    "r_mean = np.mean(r_bootstrap)\n",
    "r_std = np.std(r_bootstrap)\n",
    "print('Bootstrap mean:', r_mean)\n",
    "print('Bootstrap standard deviation:', r_std)"
   ],
   "metadata": {
    "collapsed": false,
    "pycharm": {
     "name": "#%%\n"
    }
   }
  },
  {
   "cell_type": "code",
   "execution_count": 58,
   "outputs": [
    {
     "data": {
      "text/plain": "<Figure size 432x288 with 1 Axes>",
      "image/png": "[encoded data removed]"
     },
     "metadata": {
      "needs_background": "light"
     },
     "output_type": "display_data"
    }
   ],
   "source": [
    "plt.hist(r_bootstrap, bins=30)\n",
    "plt.xlabel('Correlation coefficient')\n",
    "plt.ylabel('Frequency')\n",
    "plt.title('Bootstrap distribution of correlation coefficient')\n",
    "plt.show()"
   ],
   "metadata": {
    "collapsed": false,
    "pycharm": {
     "name": "#%%\n"
    }
   }
  },
  {
   "cell_type": "markdown",
   "source": [
    "We can see from here that the shape of the histogram indicate a positively corelation (is stronger for the high values than for the low values)"
   ],
   "metadata": {
    "collapsed": false,
    "pycharm": {
     "name": "#%% md\n"
    }
   }
  },
  {
   "cell_type": "code",
   "execution_count": 62,
   "outputs": [],
   "source": [
    "# Compute the length of LSAT\n",
    "n = len(df.LSAT)\n",
    "\n",
    "# Define the number of possible compositions\n",
    "total = comb(2 * n - 1, n - 1, exact=True)\n",
    "\n",
    "gray_codes = np.zeros((total, n), dtype=int)\n",
    "# N-W algorithm to run through compositions Cn\n",
    "# This is where the gray codes will be stored temporarily\n",
    "k = [0] * n\n",
    "k[0] = n\n",
    "t = n\n",
    "h = 0\n",
    "i = 0\n",
    "\n",
    "gray_codes[i, :] = k.copy()\n",
    "i += 1\n",
    "\n",
    "while k[n - 1] != n:\n",
    "    if k[i] != 0:\n",
    "        h = 0\n",
    "    h += 1\n",
    "    t = k[h - 1]\n",
    "    k[h - 1] = 0\n",
    "    k[i] = t - 1\n",
    "    k[h] += 1\n",
    "    gray_codes[i, :] = k.copy()\n",
    "    i += 1"
   ],
   "metadata": {
    "collapsed": false,
    "pycharm": {
     "name": "#%%\n"
    }
   }
  },
  {
   "cell_type": "code",
   "execution_count": null,
   "outputs": [],
   "source": [],
   "metadata": {
    "collapsed": false,
    "pycharm": {
     "name": "#%%\n"
    }
   }
  }
 ],
 "metadata": {
  "kernelspec": {
   "display_name": "Python 3",
   "language": "python",
   "name": "python3"
  },
  "language_info": {
   "codemirror_mode": {
    "name": "ipython",
    "version": 2
   },
   "file_extension": ".py",
   "mimetype": "text/x-python",
   "name": "python",
   "nbconvert_exporter": "python",
   "pygments_lexer": "ipython2",
   "version": "2.7.6"
  }
 },
 "nbformat": 4,
 "nbformat_minor": 0
}